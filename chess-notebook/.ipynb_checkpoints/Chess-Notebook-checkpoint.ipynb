{
 "cells": [
  {
   "cell_type": "markdown",
   "id": "04cf0186",
   "metadata": {
    "tags": []
   },
   "source": [
    "## Dependencies"
   ]
  },
  {
   "cell_type": "code",
   "execution_count": null,
   "id": "284bf274-2f45-4110-bd1e-cd27f3af3d5b",
   "metadata": {},
   "outputs": [],
   "source": []
  },
  {
   "cell_type": "code",
   "execution_count": 1,
   "id": "f6d94fd2-a686-4830-bdeb-44e0c87eab51",
   "metadata": {
    "tags": []
   },
   "outputs": [],
   "source": [
    "# !jt -Tt gruvboxd\n",
    "# !pip install dill\n",
    "# !pip install ipywidgets\n",
    "# !pip install jupyterlab_widgets\n",
    "# !pip install python-chess\n",
    "# %conda install jupyterlab_widgets"
   ]
  },
  {
   "cell_type": "markdown",
   "id": "8620ae59-783f-46d9-80dd-95b41439d459",
   "metadata": {
    "tags": []
   },
   "source": [
    "## Starting Positions"
   ]
  },
  {
   "cell_type": "code",
   "execution_count": 2,
   "id": "856bc625-f868-4c02-b212-59d5a56ee130",
   "metadata": {
    "tags": []
   },
   "outputs": [],
   "source": [
    "# Openings to investigate\n",
    "# CAUTION: Will take time on higher depths ( > 3)\n",
    "ClosedSicilianDefence = 'rnbqkbnr/pp1ppppp/8/2p5/4P3/2N5/PPPP1PPP/R1BQKBNR b KQkq - 1 2'\n",
    "ViennaOpenning = 'rnbqkbnr/pppp1ppp/8/4p3/4P3/2N5/PPPP1PPP/R1BQKBNR b KQkq - 1 2'\n",
    "NimzoIndianDefence = 'rnbqk2r/pppp1ppp/4pn2/8/1bPP4/2N5/PP2PPPP/R1BQKBNR w KQkq - 2 4'\n",
    "SlavDefence = 'rnbqkbnr/pp2pppp/2p5/3p4/2PP4/8/PP2PPPP/RNBQKBNR w KQkq - 0 3'\n",
    "QueenzGambit = 'rnbqkbnr/ppp1pppp/8/3p4/2PP4/8/PP2PPPP/RNBQKBNR b KQkq c3 0 2'\n",
    "RuyLopez = 'r1bqkbnr/pppp1ppp/2n5/1B2p3/4P3/5N2/PPPP1PPP/RNBQK2R b KQkq - 3 3'\n",
    "\n",
    "WM5Position = \"2nrkbn1/pp1bp3/2qprp1p/6p1/4P2P/2NP1N2/PPP2PP1/R1BQKB1R w KQ - 0 1\"\n",
    "BM5Position = \"2kr4/1b2b1p1/p2pp3/1p6/5B2/2P1NqP1/PP3PQK/8 b - - 0 1\"\n",
    "BM6Position = \"r1b1kr2/bp2qp2/p2p2P1/2n1p3/2Q1P1P1/1P1PN2p/P1PBR2P/2NRKBn1 b q - 0 1\"\n",
    "\n",
    "NotM5Position = \"2nrkbn1/pp1bp3/2qprp1p/6p1/4P2P/2NP1N2/PPP2PP1/RQB1KB1R w KQ - 0 1\"\n",
    "Zugzwang = \"kbK5/pp6/1P6/8/8/8/8/R7 w - - 0 1\"\n",
    "StartingBoard = \"rnbqkbnr/pppppppp/8/8/8/8/PPPPPPPP/RNBQKBNR w KQkq - 0 1\"\n",
    "WMK2R = \"8/8/8/8/8/4k3/6R1/6RK w - - 0 1\"\n",
    "WMK1REasy = \"3k4/R7/8/4K3/8/8/8/8 w - - 0 1\"\n",
    "WMK1RMedium = \"8/6K1/8/8/4k3/8/8/6R1 w - - 0 1\"\n",
    "WMK1RHard = \"8/8/8/8/4k3/8/8/6RK w - - 0 1\"\n",
    "KingRoom = \"8/8/8/8/3pp3/4k3/6R1/6RK w - - 0 1\"\n",
    "\n",
    "WMKQR = \"8/8/8/3k4/8/8/8/5RQK w - - 0 1\"\n",
    "\n",
    "DKnightPromotionFork = \"8/3KP1k1/5q2/8/8/8/8/8 w - - 0 1\"\n",
    "\n",
    "BTraxler = 'r1bqk2r/pppp1Npp/2n2n2/2b1p3/2B1P3/8/PPPP1PPP/RNBQK2R b KQkq - 0 1'\n"
   ]
  },
  {
   "cell_type": "markdown",
   "id": "f09a9a0b-2730-40c1-a05b-b8d5f2abaac1",
   "metadata": {
    "tags": []
   },
   "source": [
    "## Imports"
   ]
  },
  {
   "cell_type": "code",
   "execution_count": 3,
   "id": "b9efe1ec-502e-435f-a12f-6534561f6e8e",
   "metadata": {
    "tags": []
   },
   "outputs": [],
   "source": [
    "import random\n",
    "import numpy as np\n",
    "import time\n",
    "import chess\n",
    "from ZEIT4150.chess import ChessAgent, ChessGame\n",
    "from IPython.display import display, HTML, clear_output\n",
    "\n",
    "from math import log, sqrt\n",
    "inf = float('inf')\n"
   ]
  },
  {
   "cell_type": "markdown",
   "id": "51f8a2da-cd62-4996-baac-582c0670d38c",
   "metadata": {
    "tags": []
   },
   "source": [
    "## Example: Random Agent"
   ]
  },
  {
   "cell_type": "code",
   "execution_count": 4,
   "id": "d6e232b7-f2ae-49f1-9373-ec8c1334eb25",
   "metadata": {
    "tags": []
   },
   "outputs": [],
   "source": [
    "class RandomChessAgent(ChessAgent):\n",
    "    def __init__(self, *args, **kwargs):\n",
    "        super().__init__(*args, **kwargs)\n",
    "        pass\n",
    "    \n",
    "    def calcMoves(self, board):\n",
    "        # Always wrap legal_moves into a list to \n",
    "        # unpack moves. Otherwise, it returns \n",
    "        # a generator.\n",
    "        legalMoves = list(board.legal_moves)\n",
    "        \n",
    "        N = 2\n",
    "        \n",
    "        myMoves = []\n",
    "        myMoves = np.random.choice(legalMoves, N).tolist()\n",
    "        \n",
    "        # Draw list of moves on the board (blue)\n",
    "        self.drawMyMoves(myMoves)\n",
    "        \n",
    "        # Log relevant info per agent\n",
    "        self.log2Agent(f\"INFO: myMoves={[board.san(mv) for mv in myMoves]}\", \"green\")\n",
    "        \n",
    "        # Draw a minitutre version of this board\n",
    "        # You can use this to visualise current scenario\n",
    "        # your agent is investigating.\n",
    "        self.drawBoard(board, \"Board1\")\n",
    "        \n",
    "        # Log info to the margin of the board. This is a shared \n",
    "        # logging space between this agent, the opponent agent \n",
    "        # and the board itself.\n",
    "        self.log2Margin(f\"This is an INFO msg!!\")\n",
    "        for mv in myMoves:\n",
    "            \n",
    "            # Apply action to the board\n",
    "            board.push(mv)\n",
    "            \n",
    "            # Query leagal moves after action`mv` applied\n",
    "            legalMoves = list(board.legal_moves)\n",
    "            \n",
    "            if len(legalMoves) >= N:\n",
    "                oppMoves = np.random.choice(legalMoves, 2).tolist()\n",
    "                \n",
    "                # Log relevant info per agent\n",
    "                self.log2Agent(f\"INFO: oppMoves={[board.san(mv) for mv in oppMoves]}\", \"red\")\n",
    "                \n",
    "                # Draw list of opponent moves on the board (red)\n",
    "                self.drawOpponentMoves(oppMoves)\n",
    "            board.pop()\n",
    "            pass\n",
    "        \n",
    "        # Draw a mask board showing king's reach\n",
    "        self.drawBoard(board.attacks(board.king(board.turn)), \n",
    "                       \"King\")\n",
    "        \n",
    "        # Draw a mask board showing opponent's king's reach\n",
    "        self.drawBoard(board.attacks(board.king(not board.turn)), \n",
    "                       \"Other King\")\n",
    "        \n",
    "        \"\"\" Uncomment and check the documentation `python-chess' documentation for more info\n",
    "        \n",
    "        self.drawBoard(board, \"Mask 3\")\n",
    "        self.drawBoard(board.attackers(chess.WHITE, chess.F5), \n",
    "                       \"f5 Attackers\")\n",
    "        \n",
    "        self.drawBoard(board.attackers(chess.WHITE, chess.E5), \n",
    "                       \"e5 Attackers\")\n",
    "        \n",
    "        self.drawBoard(board.attackers(chess.WHITE, chess.D5), \n",
    "                       \"d5 Attackers\")\n",
    "        \n",
    "        self.drawBoard(chess.SquareSet(chess.BB_LIGHT_SQUARES & chess.BB_RANK_3), \n",
    "                       \"4th Mask\")\n",
    "        # \"\"\"\n",
    "        \n",
    "        # Scoring function check cbase class for more info \n",
    "        score = self.scoreFn(self.board)\n",
    "        \n",
    "        # A sleeping timer to slow things down (only releven when visualising random agents)\n",
    "        time.sleep(self.dtime)\n",
    "        return myMoves[-1]\n",
    "        \n",
    "    def getAction(self, board):\n",
    "        return self.calcMoves(board)\n",
    "    \n",
    "    pass"
   ]
  },
  {
   "cell_type": "markdown",
   "id": "2ef01bbd-235c-419e-ac5c-5260e5033323",
   "metadata": {
    "tags": []
   },
   "source": [
    "## Game Play"
   ]
  },
  {
   "cell_type": "code",
   "execution_count": null,
   "id": "04f81a22-7675-4f91-a449-19c9dda20e20",
   "metadata": {
    "tags": []
   },
   "outputs": [
    {
     "data": {
      "application/vnd.jupyter.widget-view+json": {
       "model_id": "c3a67cebd13f4f9197d3fc2fdc44d178",
       "version_major": 2,
       "version_minor": 0
      },
      "text/plain": [
       "VBox(children=(HTML(value='<p style=\"color:green\">Game 042: White vs. Black<br/></p>'), VBox(children=(Tab(chi…"
      ]
     },
     "metadata": {},
     "output_type": "display_data"
    }
   ],
   "source": [
    "white, black = RandomChessAgent(name=\"White\"), RandomChessAgent(name=\"Black\")\n",
    "game = ChessGame(fen=StartingBoard, vizSize=450) #, scoreFn=gameScoreFn)\n",
    "clear_output(wait=True)\n",
    "\n",
    "for i in range(64):\n",
    "    game.addGameInfo(f\"Game {i:03d}: {white.name} vs. {black.name}\")\n",
    "    game.playGame(white, black, visualise=True)\n",
    "    pgn = game.saveGame(f\"Game_{i} - {white.name} vs. {black.name}.pgn\")\n",
    "    time.sleep(1)\n",
    "    clear_output(wait=True)\n",
    "    game.resetGame()\n",
    "\n"
   ]
  },
  {
   "cell_type": "code",
   "execution_count": null,
   "id": "95ce0547-1128-4fb9-923d-a4279f7de557",
   "metadata": {},
   "outputs": [],
   "source": []
  }
 ],
 "metadata": {
  "kernelspec": {
   "display_name": "Python 3 (ipykernel)",
   "language": "python",
   "name": "python3"
  },
  "language_info": {
   "codemirror_mode": {
    "name": "ipython",
    "version": 3
   },
   "file_extension": ".py",
   "mimetype": "text/x-python",
   "name": "python",
   "nbconvert_exporter": "python",
   "pygments_lexer": "ipython3",
   "version": "3.9.13"
  },
  "name": "Chess.ipynb"
 },
 "nbformat": 4,
 "nbformat_minor": 5
}
